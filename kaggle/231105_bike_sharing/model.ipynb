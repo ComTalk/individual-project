{
 "cells": [
  {
   "cell_type": "code",
   "execution_count": 1,
   "id": "a3a3ff40-89b6-49b1-94d6-723ef29f5949",
   "metadata": {},
   "outputs": [],
   "source": [
    "import pandas as pd \n",
    "import numpy as np \n",
    "import seaborn as sns \n",
    "from matplotlib import pyplot as plt "
   ]
  },
  {
   "cell_type": "code",
   "execution_count": 2,
   "id": "99355d31-a910-4797-9422-13329df882c9",
   "metadata": {},
   "outputs": [],
   "source": [
    "df_train = pd.read_csv(\"data/train.csv\")\n",
    "df_test = pd.read_csv(\"data/test.csv\")\n",
    "df_submission = pd.read_csv(\"data/sampleSubmission.csv\")"
   ]
  },
  {
   "cell_type": "markdown",
   "id": "5072d302-a5e9-41c4-9289-17f5858b7ae3",
   "metadata": {},
   "source": [
    "### EDA에 따른 Feature Engineering 요약 \n",
    "- target 값 변환 : $y=e^{log(y)}$\n",
    "- feature 추가 \n",
    "  - datetime -> year, month, day, hour, minute, second, weekday \n",
    "- feature 제거 \n",
    "  - testset 에 없는 casual, registered 제거 \n",
    "  - datetime (날짜 요소들로 변환 했으므로)\n",
    "  - day, minute, second 제거 \n",
    "  - windspeed 제거 \n",
    "- 이상치 제거 \n",
    "  - weather = 4 제거"
   ]
  },
  {
   "cell_type": "markdown",
   "id": "864b302e-b1bb-44b4-89e3-b88d0da8e95d",
   "metadata": {},
   "source": [
    "## feature engineering"
   ]
  },
  {
   "cell_type": "code",
   "execution_count": 31,
   "id": "8a40c2ae-e5bf-47f7-85eb-2a20b4e74fb7",
   "metadata": {},
   "outputs": [
    {
     "data": {
      "text/plain": [
       "(10885, 12)"
      ]
     },
     "execution_count": 31,
     "metadata": {},
     "output_type": "execute_result"
    }
   ],
   "source": [
    "df_train.shape"
   ]
  },
  {
   "cell_type": "code",
   "execution_count": 3,
   "id": "d8bc3f70-83f5-4e1f-b897-2f2a963a6794",
   "metadata": {},
   "outputs": [],
   "source": [
    "df_train = df_train[df_train[\"weather\"] != 4]"
   ]
  },
  {
   "cell_type": "code",
   "execution_count": 4,
   "id": "0db40041-c0cb-4742-8779-ee84d539b727",
   "metadata": {},
   "outputs": [
    {
     "data": {
      "text/html": [
       "<div>\n",
       "<style scoped>\n",
       "    .dataframe tbody tr th:only-of-type {\n",
       "        vertical-align: middle;\n",
       "    }\n",
       "\n",
       "    .dataframe tbody tr th {\n",
       "        vertical-align: top;\n",
       "    }\n",
       "\n",
       "    .dataframe thead th {\n",
       "        text-align: right;\n",
       "    }\n",
       "</style>\n",
       "<table border=\"1\" class=\"dataframe\">\n",
       "  <thead>\n",
       "    <tr style=\"text-align: right;\">\n",
       "      <th></th>\n",
       "      <th>datetime</th>\n",
       "      <th>season</th>\n",
       "      <th>holiday</th>\n",
       "      <th>workingday</th>\n",
       "      <th>weather</th>\n",
       "      <th>temp</th>\n",
       "      <th>atemp</th>\n",
       "      <th>humidity</th>\n",
       "      <th>windspeed</th>\n",
       "      <th>casual</th>\n",
       "      <th>registered</th>\n",
       "      <th>count</th>\n",
       "    </tr>\n",
       "  </thead>\n",
       "  <tbody>\n",
       "    <tr>\n",
       "      <th>0</th>\n",
       "      <td>2011-01-01 00:00:00</td>\n",
       "      <td>1</td>\n",
       "      <td>0</td>\n",
       "      <td>0</td>\n",
       "      <td>1</td>\n",
       "      <td>9.84</td>\n",
       "      <td>14.395</td>\n",
       "      <td>81</td>\n",
       "      <td>0.0000</td>\n",
       "      <td>3.0</td>\n",
       "      <td>13.0</td>\n",
       "      <td>16.0</td>\n",
       "    </tr>\n",
       "    <tr>\n",
       "      <th>1</th>\n",
       "      <td>2011-01-01 01:00:00</td>\n",
       "      <td>1</td>\n",
       "      <td>0</td>\n",
       "      <td>0</td>\n",
       "      <td>1</td>\n",
       "      <td>9.02</td>\n",
       "      <td>13.635</td>\n",
       "      <td>80</td>\n",
       "      <td>0.0000</td>\n",
       "      <td>8.0</td>\n",
       "      <td>32.0</td>\n",
       "      <td>40.0</td>\n",
       "    </tr>\n",
       "    <tr>\n",
       "      <th>2</th>\n",
       "      <td>2011-01-01 02:00:00</td>\n",
       "      <td>1</td>\n",
       "      <td>0</td>\n",
       "      <td>0</td>\n",
       "      <td>1</td>\n",
       "      <td>9.02</td>\n",
       "      <td>13.635</td>\n",
       "      <td>80</td>\n",
       "      <td>0.0000</td>\n",
       "      <td>5.0</td>\n",
       "      <td>27.0</td>\n",
       "      <td>32.0</td>\n",
       "    </tr>\n",
       "    <tr>\n",
       "      <th>3</th>\n",
       "      <td>2011-01-01 03:00:00</td>\n",
       "      <td>1</td>\n",
       "      <td>0</td>\n",
       "      <td>0</td>\n",
       "      <td>1</td>\n",
       "      <td>9.84</td>\n",
       "      <td>14.395</td>\n",
       "      <td>75</td>\n",
       "      <td>0.0000</td>\n",
       "      <td>3.0</td>\n",
       "      <td>10.0</td>\n",
       "      <td>13.0</td>\n",
       "    </tr>\n",
       "    <tr>\n",
       "      <th>4</th>\n",
       "      <td>2011-01-01 04:00:00</td>\n",
       "      <td>1</td>\n",
       "      <td>0</td>\n",
       "      <td>0</td>\n",
       "      <td>1</td>\n",
       "      <td>9.84</td>\n",
       "      <td>14.395</td>\n",
       "      <td>75</td>\n",
       "      <td>0.0000</td>\n",
       "      <td>0.0</td>\n",
       "      <td>1.0</td>\n",
       "      <td>1.0</td>\n",
       "    </tr>\n",
       "    <tr>\n",
       "      <th>...</th>\n",
       "      <td>...</td>\n",
       "      <td>...</td>\n",
       "      <td>...</td>\n",
       "      <td>...</td>\n",
       "      <td>...</td>\n",
       "      <td>...</td>\n",
       "      <td>...</td>\n",
       "      <td>...</td>\n",
       "      <td>...</td>\n",
       "      <td>...</td>\n",
       "      <td>...</td>\n",
       "      <td>...</td>\n",
       "    </tr>\n",
       "    <tr>\n",
       "      <th>17373</th>\n",
       "      <td>2012-12-31 19:00:00</td>\n",
       "      <td>1</td>\n",
       "      <td>0</td>\n",
       "      <td>1</td>\n",
       "      <td>2</td>\n",
       "      <td>10.66</td>\n",
       "      <td>12.880</td>\n",
       "      <td>60</td>\n",
       "      <td>11.0014</td>\n",
       "      <td>NaN</td>\n",
       "      <td>NaN</td>\n",
       "      <td>NaN</td>\n",
       "    </tr>\n",
       "    <tr>\n",
       "      <th>17374</th>\n",
       "      <td>2012-12-31 20:00:00</td>\n",
       "      <td>1</td>\n",
       "      <td>0</td>\n",
       "      <td>1</td>\n",
       "      <td>2</td>\n",
       "      <td>10.66</td>\n",
       "      <td>12.880</td>\n",
       "      <td>60</td>\n",
       "      <td>11.0014</td>\n",
       "      <td>NaN</td>\n",
       "      <td>NaN</td>\n",
       "      <td>NaN</td>\n",
       "    </tr>\n",
       "    <tr>\n",
       "      <th>17375</th>\n",
       "      <td>2012-12-31 21:00:00</td>\n",
       "      <td>1</td>\n",
       "      <td>0</td>\n",
       "      <td>1</td>\n",
       "      <td>1</td>\n",
       "      <td>10.66</td>\n",
       "      <td>12.880</td>\n",
       "      <td>60</td>\n",
       "      <td>11.0014</td>\n",
       "      <td>NaN</td>\n",
       "      <td>NaN</td>\n",
       "      <td>NaN</td>\n",
       "    </tr>\n",
       "    <tr>\n",
       "      <th>17376</th>\n",
       "      <td>2012-12-31 22:00:00</td>\n",
       "      <td>1</td>\n",
       "      <td>0</td>\n",
       "      <td>1</td>\n",
       "      <td>1</td>\n",
       "      <td>10.66</td>\n",
       "      <td>13.635</td>\n",
       "      <td>56</td>\n",
       "      <td>8.9981</td>\n",
       "      <td>NaN</td>\n",
       "      <td>NaN</td>\n",
       "      <td>NaN</td>\n",
       "    </tr>\n",
       "    <tr>\n",
       "      <th>17377</th>\n",
       "      <td>2012-12-31 23:00:00</td>\n",
       "      <td>1</td>\n",
       "      <td>0</td>\n",
       "      <td>1</td>\n",
       "      <td>1</td>\n",
       "      <td>10.66</td>\n",
       "      <td>13.635</td>\n",
       "      <td>65</td>\n",
       "      <td>8.9981</td>\n",
       "      <td>NaN</td>\n",
       "      <td>NaN</td>\n",
       "      <td>NaN</td>\n",
       "    </tr>\n",
       "  </tbody>\n",
       "</table>\n",
       "<p>17378 rows × 12 columns</p>\n",
       "</div>"
      ],
      "text/plain": [
       "                  datetime  season  holiday  workingday  weather   temp  \\\n",
       "0      2011-01-01 00:00:00       1        0           0        1   9.84   \n",
       "1      2011-01-01 01:00:00       1        0           0        1   9.02   \n",
       "2      2011-01-01 02:00:00       1        0           0        1   9.02   \n",
       "3      2011-01-01 03:00:00       1        0           0        1   9.84   \n",
       "4      2011-01-01 04:00:00       1        0           0        1   9.84   \n",
       "...                    ...     ...      ...         ...      ...    ...   \n",
       "17373  2012-12-31 19:00:00       1        0           1        2  10.66   \n",
       "17374  2012-12-31 20:00:00       1        0           1        2  10.66   \n",
       "17375  2012-12-31 21:00:00       1        0           1        1  10.66   \n",
       "17376  2012-12-31 22:00:00       1        0           1        1  10.66   \n",
       "17377  2012-12-31 23:00:00       1        0           1        1  10.66   \n",
       "\n",
       "        atemp  humidity  windspeed  casual  registered  count  \n",
       "0      14.395        81     0.0000     3.0        13.0   16.0  \n",
       "1      13.635        80     0.0000     8.0        32.0   40.0  \n",
       "2      13.635        80     0.0000     5.0        27.0   32.0  \n",
       "3      14.395        75     0.0000     3.0        10.0   13.0  \n",
       "4      14.395        75     0.0000     0.0         1.0    1.0  \n",
       "...       ...       ...        ...     ...         ...    ...  \n",
       "17373  12.880        60    11.0014     NaN         NaN    NaN  \n",
       "17374  12.880        60    11.0014     NaN         NaN    NaN  \n",
       "17375  12.880        60    11.0014     NaN         NaN    NaN  \n",
       "17376  13.635        56     8.9981     NaN         NaN    NaN  \n",
       "17377  13.635        65     8.9981     NaN         NaN    NaN  \n",
       "\n",
       "[17378 rows x 12 columns]"
      ]
     },
     "execution_count": 4,
     "metadata": {},
     "output_type": "execute_result"
    }
   ],
   "source": [
    "train_test = pd.concat([df_train, df_test], ignore_index=True)\n",
    "train_test"
   ]
  },
  {
   "cell_type": "code",
   "execution_count": 5,
   "id": "c932b68e-5005-4e02-a541-f7ac369376c1",
   "metadata": {},
   "outputs": [],
   "source": [
    "train_test[\"datetime\"] = pd.to_datetime(train_test[\"datetime\"])\n",
    "for attr in [\"date\", \"year\", \"month\", \"hour\", \"weekday\"]:\n",
    "    train_test[attr] = getattr(train_test[\"datetime\"].dt, attr)"
   ]
  },
  {
   "cell_type": "code",
   "execution_count": 6,
   "id": "fd4b6696-f2fb-4088-9604-5d59546c9f4f",
   "metadata": {},
   "outputs": [],
   "source": [
    "drop_features = [\"casual\", \"registered\", \"datetime\", \"date\", \"windspeed\", \"month\"]\n",
    "train_test = train_test.drop(drop_features, axis=1)"
   ]
  },
  {
   "cell_type": "code",
   "execution_count": 7,
   "id": "7ba17e9e-683a-4d7a-a07c-c8dbf66d67e2",
   "metadata": {},
   "outputs": [],
   "source": [
    "X_train = train_test[~pd.isnull(train_test[\"count\"])]\n",
    "X_test = train_test[pd.isnull(train_test[\"count\"])]"
   ]
  },
  {
   "cell_type": "code",
   "execution_count": 8,
   "id": "d84267dc-bf35-4768-839d-c0fd16470f8e",
   "metadata": {},
   "outputs": [
    {
     "data": {
      "text/plain": [
       "((10885, 11), (6493, 11))"
      ]
     },
     "execution_count": 8,
     "metadata": {},
     "output_type": "execute_result"
    }
   ],
   "source": [
    "X_train.shape, X_test.shape"
   ]
  },
  {
   "cell_type": "code",
   "execution_count": 9,
   "id": "b2a574af-9cd0-4bfa-bac5-d02cca22b0f8",
   "metadata": {},
   "outputs": [
    {
     "data": {
      "text/plain": [
       "(17378, 11)"
      ]
     },
     "execution_count": 9,
     "metadata": {},
     "output_type": "execute_result"
    }
   ],
   "source": [
    "train_test.shape"
   ]
  },
  {
   "cell_type": "code",
   "execution_count": 10,
   "id": "a0c279c6-17bd-4429-926c-a3b25d067f64",
   "metadata": {},
   "outputs": [],
   "source": [
    "X_train = X_train.drop(columns=\"count\")\n",
    "X_test = X_test.drop(columns=\"count\")\n",
    "y = df_train[\"count\"]"
   ]
  },
  {
   "cell_type": "markdown",
   "id": "ce0adc8f-52f5-474e-b2ce-29a6390f3354",
   "metadata": {},
   "source": [
    "### 평가 지표"
   ]
  },
  {
   "cell_type": "code",
   "execution_count": 11,
   "id": "bb6ddbcc-9dd6-4a65-8fdc-0ddec04bc109",
   "metadata": {},
   "outputs": [],
   "source": [
    "def rmsle(y_true, y_pred, convertExp=True):\n",
    "    if convertExp:\n",
    "        y_true = np.exp(y_true)\n",
    "        y_pred = np.exp(y_pred)\n",
    "    \n",
    "    log_true = np.nan_to_num(np.log(y_true + 1))\n",
    "    log_pred = np.nan_to_num(np.log(y_pred + 1))    \n",
    "    \n",
    "    output = np.sqrt(np.mean((log_true - log_pred) ** 2))\n",
    "    return output "
   ]
  },
  {
   "cell_type": "markdown",
   "id": "a3fe993c-32da-40ce-83bc-f973067650e0",
   "metadata": {},
   "source": [
    "### RMSLE (Root Mean Squared Log Error)\n",
    "$\\sqrt{\\frac{1}{N}\\sum_{i=1}^{N}{(log(y_i+1)-log(\\hat{y_i}+1))^2}}$"
   ]
  },
  {
   "cell_type": "code",
   "execution_count": 12,
   "id": "b8e30c29-362f-4e1d-83a5-6e52cefbbffe",
   "metadata": {},
   "outputs": [],
   "source": [
    "from sklearn.linear_model import LinearRegression"
   ]
  },
  {
   "cell_type": "code",
   "execution_count": 13,
   "id": "291c8978-f0c9-4d1a-8991-06ebd7e77c51",
   "metadata": {},
   "outputs": [],
   "source": [
    "lr_model = LinearRegression()"
   ]
  },
  {
   "cell_type": "code",
   "execution_count": 14,
   "id": "c7d740f5-8b73-43e2-9ec3-dfcc8ce10fbe",
   "metadata": {},
   "outputs": [
    {
     "data": {
      "text/html": [
       "<style>#sk-container-id-1 {color: black;background-color: white;}#sk-container-id-1 pre{padding: 0;}#sk-container-id-1 div.sk-toggleable {background-color: white;}#sk-container-id-1 label.sk-toggleable__label {cursor: pointer;display: block;width: 100%;margin-bottom: 0;padding: 0.3em;box-sizing: border-box;text-align: center;}#sk-container-id-1 label.sk-toggleable__label-arrow:before {content: \"▸\";float: left;margin-right: 0.25em;color: #696969;}#sk-container-id-1 label.sk-toggleable__label-arrow:hover:before {color: black;}#sk-container-id-1 div.sk-estimator:hover label.sk-toggleable__label-arrow:before {color: black;}#sk-container-id-1 div.sk-toggleable__content {max-height: 0;max-width: 0;overflow: hidden;text-align: left;background-color: #f0f8ff;}#sk-container-id-1 div.sk-toggleable__content pre {margin: 0.2em;color: black;border-radius: 0.25em;background-color: #f0f8ff;}#sk-container-id-1 input.sk-toggleable__control:checked~div.sk-toggleable__content {max-height: 200px;max-width: 100%;overflow: auto;}#sk-container-id-1 input.sk-toggleable__control:checked~label.sk-toggleable__label-arrow:before {content: \"▾\";}#sk-container-id-1 div.sk-estimator input.sk-toggleable__control:checked~label.sk-toggleable__label {background-color: #d4ebff;}#sk-container-id-1 div.sk-label input.sk-toggleable__control:checked~label.sk-toggleable__label {background-color: #d4ebff;}#sk-container-id-1 input.sk-hidden--visually {border: 0;clip: rect(1px 1px 1px 1px);clip: rect(1px, 1px, 1px, 1px);height: 1px;margin: -1px;overflow: hidden;padding: 0;position: absolute;width: 1px;}#sk-container-id-1 div.sk-estimator {font-family: monospace;background-color: #f0f8ff;border: 1px dotted black;border-radius: 0.25em;box-sizing: border-box;margin-bottom: 0.5em;}#sk-container-id-1 div.sk-estimator:hover {background-color: #d4ebff;}#sk-container-id-1 div.sk-parallel-item::after {content: \"\";width: 100%;border-bottom: 1px solid gray;flex-grow: 1;}#sk-container-id-1 div.sk-label:hover label.sk-toggleable__label {background-color: #d4ebff;}#sk-container-id-1 div.sk-serial::before {content: \"\";position: absolute;border-left: 1px solid gray;box-sizing: border-box;top: 0;bottom: 0;left: 50%;z-index: 0;}#sk-container-id-1 div.sk-serial {display: flex;flex-direction: column;align-items: center;background-color: white;padding-right: 0.2em;padding-left: 0.2em;position: relative;}#sk-container-id-1 div.sk-item {position: relative;z-index: 1;}#sk-container-id-1 div.sk-parallel {display: flex;align-items: stretch;justify-content: center;background-color: white;position: relative;}#sk-container-id-1 div.sk-item::before, #sk-container-id-1 div.sk-parallel-item::before {content: \"\";position: absolute;border-left: 1px solid gray;box-sizing: border-box;top: 0;bottom: 0;left: 50%;z-index: -1;}#sk-container-id-1 div.sk-parallel-item {display: flex;flex-direction: column;z-index: 1;position: relative;background-color: white;}#sk-container-id-1 div.sk-parallel-item:first-child::after {align-self: flex-end;width: 50%;}#sk-container-id-1 div.sk-parallel-item:last-child::after {align-self: flex-start;width: 50%;}#sk-container-id-1 div.sk-parallel-item:only-child::after {width: 0;}#sk-container-id-1 div.sk-dashed-wrapped {border: 1px dashed gray;margin: 0 0.4em 0.5em 0.4em;box-sizing: border-box;padding-bottom: 0.4em;background-color: white;}#sk-container-id-1 div.sk-label label {font-family: monospace;font-weight: bold;display: inline-block;line-height: 1.2em;}#sk-container-id-1 div.sk-label-container {text-align: center;}#sk-container-id-1 div.sk-container {/* jupyter's `normalize.less` sets `[hidden] { display: none; }` but bootstrap.min.css set `[hidden] { display: none !important; }` so we also need the `!important` here to be able to override the default hidden behavior on the sphinx rendered scikit-learn.org. See: https://github.com/scikit-learn/scikit-learn/issues/21755 */display: inline-block !important;position: relative;}#sk-container-id-1 div.sk-text-repr-fallback {display: none;}</style><div id=\"sk-container-id-1\" class=\"sk-top-container\"><div class=\"sk-text-repr-fallback\"><pre>LinearRegression()</pre><b>In a Jupyter environment, please rerun this cell to show the HTML representation or trust the notebook. <br />On GitHub, the HTML representation is unable to render, please try loading this page with nbviewer.org.</b></div><div class=\"sk-container\" hidden><div class=\"sk-item\"><div class=\"sk-estimator sk-toggleable\"><input class=\"sk-toggleable__control sk-hidden--visually\" id=\"sk-estimator-id-1\" type=\"checkbox\" checked><label for=\"sk-estimator-id-1\" class=\"sk-toggleable__label sk-toggleable__label-arrow\">LinearRegression</label><div class=\"sk-toggleable__content\"><pre>LinearRegression()</pre></div></div></div></div></div>"
      ],
      "text/plain": [
       "LinearRegression()"
      ]
     },
     "execution_count": 14,
     "metadata": {},
     "output_type": "execute_result"
    }
   ],
   "source": [
    "log_y = np.log(y)\n",
    "lr_model.fit(X_train, log_y)"
   ]
  },
  {
   "cell_type": "code",
   "execution_count": 15,
   "id": "c8ab285a-05f3-4335-85e8-9ab6e261613c",
   "metadata": {},
   "outputs": [],
   "source": [
    "y_pred = lr_model.predict(X_train)"
   ]
  },
  {
   "cell_type": "code",
   "execution_count": 16,
   "id": "ab8e4e62-b7ca-4014-9a8c-5924e1727286",
   "metadata": {},
   "outputs": [
    {
     "data": {
      "text/plain": [
       "1.0204980189305073"
      ]
     },
     "execution_count": 16,
     "metadata": {},
     "output_type": "execute_result"
    }
   ],
   "source": [
    "rmsle(log_y, y_pred)"
   ]
  },
  {
   "cell_type": "markdown",
   "id": "efd753ab-d74a-4976-bb19-afbad37a7776",
   "metadata": {},
   "source": [
    "## 개선1 : Ridge 모델 "
   ]
  },
  {
   "cell_type": "code",
   "execution_count": null,
   "id": "69380730-5881-4ad9-bac4-6835a1cb62b9",
   "metadata": {},
   "outputs": [],
   "source": [
    "loss = f \n",
    "loss = f + regularization (l2 norm) : ridge ||w||2\n",
    "loss = f + regularization (l1 norm) : lasso |w|"
   ]
  },
  {
   "cell_type": "code",
   "execution_count": 17,
   "id": "49e3ee05-5bbe-4449-af58-cce8b1fcc0b6",
   "metadata": {},
   "outputs": [],
   "source": [
    "from sklearn.linear_model import Ridge\n",
    "from sklearn.model_selection import GridSearchCV\n",
    "from sklearn import metrics"
   ]
  },
  {
   "cell_type": "code",
   "execution_count": 18,
   "id": "82cdb621-80eb-46a6-a42a-120eb19d81d0",
   "metadata": {},
   "outputs": [],
   "source": [
    "ridge_params = {\n",
    "    \"max_iter\" : [3000],\n",
    "    \"alpha\" : [0.1, 1, 2, 3, 4, 10, 30, 100, 200, 300, 400, 800, 900, 1000]\n",
    "}\n",
    "rmsle_scorer = metrics.make_scorer(rmsle, greater_is_better=False)"
   ]
  },
  {
   "cell_type": "code",
   "execution_count": 19,
   "id": "be1c09e1-2232-4942-914e-adc76a1899aa",
   "metadata": {},
   "outputs": [],
   "source": [
    "ridge = Ridge()\n",
    "gridsearch_ridge_model = GridSearchCV(estimator=ridge, param_grid=ridge_params, scoring=rmsle_scorer, cv=5)"
   ]
  },
  {
   "cell_type": "code",
   "execution_count": 20,
   "id": "627b666c-cd47-47c1-a771-1c50cd4c9e0e",
   "metadata": {},
   "outputs": [
    {
     "data": {
      "text/html": [
       "<style>#sk-container-id-2 {color: black;background-color: white;}#sk-container-id-2 pre{padding: 0;}#sk-container-id-2 div.sk-toggleable {background-color: white;}#sk-container-id-2 label.sk-toggleable__label {cursor: pointer;display: block;width: 100%;margin-bottom: 0;padding: 0.3em;box-sizing: border-box;text-align: center;}#sk-container-id-2 label.sk-toggleable__label-arrow:before {content: \"▸\";float: left;margin-right: 0.25em;color: #696969;}#sk-container-id-2 label.sk-toggleable__label-arrow:hover:before {color: black;}#sk-container-id-2 div.sk-estimator:hover label.sk-toggleable__label-arrow:before {color: black;}#sk-container-id-2 div.sk-toggleable__content {max-height: 0;max-width: 0;overflow: hidden;text-align: left;background-color: #f0f8ff;}#sk-container-id-2 div.sk-toggleable__content pre {margin: 0.2em;color: black;border-radius: 0.25em;background-color: #f0f8ff;}#sk-container-id-2 input.sk-toggleable__control:checked~div.sk-toggleable__content {max-height: 200px;max-width: 100%;overflow: auto;}#sk-container-id-2 input.sk-toggleable__control:checked~label.sk-toggleable__label-arrow:before {content: \"▾\";}#sk-container-id-2 div.sk-estimator input.sk-toggleable__control:checked~label.sk-toggleable__label {background-color: #d4ebff;}#sk-container-id-2 div.sk-label input.sk-toggleable__control:checked~label.sk-toggleable__label {background-color: #d4ebff;}#sk-container-id-2 input.sk-hidden--visually {border: 0;clip: rect(1px 1px 1px 1px);clip: rect(1px, 1px, 1px, 1px);height: 1px;margin: -1px;overflow: hidden;padding: 0;position: absolute;width: 1px;}#sk-container-id-2 div.sk-estimator {font-family: monospace;background-color: #f0f8ff;border: 1px dotted black;border-radius: 0.25em;box-sizing: border-box;margin-bottom: 0.5em;}#sk-container-id-2 div.sk-estimator:hover {background-color: #d4ebff;}#sk-container-id-2 div.sk-parallel-item::after {content: \"\";width: 100%;border-bottom: 1px solid gray;flex-grow: 1;}#sk-container-id-2 div.sk-label:hover label.sk-toggleable__label {background-color: #d4ebff;}#sk-container-id-2 div.sk-serial::before {content: \"\";position: absolute;border-left: 1px solid gray;box-sizing: border-box;top: 0;bottom: 0;left: 50%;z-index: 0;}#sk-container-id-2 div.sk-serial {display: flex;flex-direction: column;align-items: center;background-color: white;padding-right: 0.2em;padding-left: 0.2em;position: relative;}#sk-container-id-2 div.sk-item {position: relative;z-index: 1;}#sk-container-id-2 div.sk-parallel {display: flex;align-items: stretch;justify-content: center;background-color: white;position: relative;}#sk-container-id-2 div.sk-item::before, #sk-container-id-2 div.sk-parallel-item::before {content: \"\";position: absolute;border-left: 1px solid gray;box-sizing: border-box;top: 0;bottom: 0;left: 50%;z-index: -1;}#sk-container-id-2 div.sk-parallel-item {display: flex;flex-direction: column;z-index: 1;position: relative;background-color: white;}#sk-container-id-2 div.sk-parallel-item:first-child::after {align-self: flex-end;width: 50%;}#sk-container-id-2 div.sk-parallel-item:last-child::after {align-self: flex-start;width: 50%;}#sk-container-id-2 div.sk-parallel-item:only-child::after {width: 0;}#sk-container-id-2 div.sk-dashed-wrapped {border: 1px dashed gray;margin: 0 0.4em 0.5em 0.4em;box-sizing: border-box;padding-bottom: 0.4em;background-color: white;}#sk-container-id-2 div.sk-label label {font-family: monospace;font-weight: bold;display: inline-block;line-height: 1.2em;}#sk-container-id-2 div.sk-label-container {text-align: center;}#sk-container-id-2 div.sk-container {/* jupyter's `normalize.less` sets `[hidden] { display: none; }` but bootstrap.min.css set `[hidden] { display: none !important; }` so we also need the `!important` here to be able to override the default hidden behavior on the sphinx rendered scikit-learn.org. See: https://github.com/scikit-learn/scikit-learn/issues/21755 */display: inline-block !important;position: relative;}#sk-container-id-2 div.sk-text-repr-fallback {display: none;}</style><div id=\"sk-container-id-2\" class=\"sk-top-container\"><div class=\"sk-text-repr-fallback\"><pre>GridSearchCV(cv=5, estimator=Ridge(),\n",
       "             param_grid={&#x27;alpha&#x27;: [0.1, 1, 2, 3, 4, 10, 30, 100, 200, 300, 400,\n",
       "                                   800, 900, 1000],\n",
       "                         &#x27;max_iter&#x27;: [3000]},\n",
       "             scoring=make_scorer(rmsle, greater_is_better=False))</pre><b>In a Jupyter environment, please rerun this cell to show the HTML representation or trust the notebook. <br />On GitHub, the HTML representation is unable to render, please try loading this page with nbviewer.org.</b></div><div class=\"sk-container\" hidden><div class=\"sk-item sk-dashed-wrapped\"><div class=\"sk-label-container\"><div class=\"sk-label sk-toggleable\"><input class=\"sk-toggleable__control sk-hidden--visually\" id=\"sk-estimator-id-2\" type=\"checkbox\" ><label for=\"sk-estimator-id-2\" class=\"sk-toggleable__label sk-toggleable__label-arrow\">GridSearchCV</label><div class=\"sk-toggleable__content\"><pre>GridSearchCV(cv=5, estimator=Ridge(),\n",
       "             param_grid={&#x27;alpha&#x27;: [0.1, 1, 2, 3, 4, 10, 30, 100, 200, 300, 400,\n",
       "                                   800, 900, 1000],\n",
       "                         &#x27;max_iter&#x27;: [3000]},\n",
       "             scoring=make_scorer(rmsle, greater_is_better=False))</pre></div></div></div><div class=\"sk-parallel\"><div class=\"sk-parallel-item\"><div class=\"sk-item\"><div class=\"sk-label-container\"><div class=\"sk-label sk-toggleable\"><input class=\"sk-toggleable__control sk-hidden--visually\" id=\"sk-estimator-id-3\" type=\"checkbox\" ><label for=\"sk-estimator-id-3\" class=\"sk-toggleable__label sk-toggleable__label-arrow\">estimator: Ridge</label><div class=\"sk-toggleable__content\"><pre>Ridge()</pre></div></div></div><div class=\"sk-serial\"><div class=\"sk-item\"><div class=\"sk-estimator sk-toggleable\"><input class=\"sk-toggleable__control sk-hidden--visually\" id=\"sk-estimator-id-4\" type=\"checkbox\" ><label for=\"sk-estimator-id-4\" class=\"sk-toggleable__label sk-toggleable__label-arrow\">Ridge</label><div class=\"sk-toggleable__content\"><pre>Ridge()</pre></div></div></div></div></div></div></div></div></div></div>"
      ],
      "text/plain": [
       "GridSearchCV(cv=5, estimator=Ridge(),\n",
       "             param_grid={'alpha': [0.1, 1, 2, 3, 4, 10, 30, 100, 200, 300, 400,\n",
       "                                   800, 900, 1000],\n",
       "                         'max_iter': [3000]},\n",
       "             scoring=make_scorer(rmsle, greater_is_better=False))"
      ]
     },
     "execution_count": 20,
     "metadata": {},
     "output_type": "execute_result"
    }
   ],
   "source": [
    "gridsearch_ridge_model.fit(X_train, log_y)"
   ]
  },
  {
   "cell_type": "code",
   "execution_count": 21,
   "id": "7ec604ba-24e4-4631-808b-fa4998cf7159",
   "metadata": {},
   "outputs": [
    {
     "data": {
      "text/plain": [
       "{'alpha': 0.1, 'max_iter': 3000}"
      ]
     },
     "execution_count": 21,
     "metadata": {},
     "output_type": "execute_result"
    }
   ],
   "source": [
    "gridsearch_ridge_model.best_params_"
   ]
  },
  {
   "cell_type": "code",
   "execution_count": 22,
   "id": "633f4b0d-9b75-4152-a3f4-1b9e3613bf7d",
   "metadata": {},
   "outputs": [
    {
     "data": {
      "text/plain": [
       "1.020497980747181"
      ]
     },
     "execution_count": 22,
     "metadata": {},
     "output_type": "execute_result"
    }
   ],
   "source": [
    "y_pred = gridsearch_ridge_model.best_estimator_.predict(X_train)\n",
    "rmsle(log_y, y_pred)"
   ]
  },
  {
   "cell_type": "markdown",
   "id": "5d18c27a-01f1-4e36-b60b-268339124ab7",
   "metadata": {},
   "source": [
    "## 개선2 : Lasso 모델 "
   ]
  },
  {
   "cell_type": "code",
   "execution_count": 23,
   "id": "1b68a193-561d-4e9f-8132-48211356f8e9",
   "metadata": {},
   "outputs": [],
   "source": [
    "from sklearn.linear_model import Lasso"
   ]
  },
  {
   "cell_type": "code",
   "execution_count": 24,
   "id": "a20e5e32-06da-4063-8671-eaacfa5fbebc",
   "metadata": {},
   "outputs": [],
   "source": [
    "lasso_alpha = 1 / np.array([0.1, 1, 2, 3, 4, 10, 30, 100, 200, 300, 400, 800, 900, 1000])\n",
    "lasso_params = {\n",
    "    \"max_iter\" : [3000],\n",
    "    \"alpha\" : lasso_alpha\n",
    "}\n",
    "rmsle_scorer = metrics.make_scorer(rmsle, greater_is_better=False)"
   ]
  },
  {
   "cell_type": "code",
   "execution_count": 25,
   "id": "b2bf7e94-21a0-40f8-82b2-d62b31d49fef",
   "metadata": {},
   "outputs": [
    {
     "data": {
      "text/plain": [
       "{'alpha': 0.00125, 'max_iter': 3000}"
      ]
     },
     "execution_count": 25,
     "metadata": {},
     "output_type": "execute_result"
    }
   ],
   "source": [
    "lasso = Lasso()\n",
    "gridsearch_lasso_model = GridSearchCV(estimator=lasso, param_grid=lasso_params, scoring=rmsle_scorer, cv=5)\n",
    "gridsearch_lasso_model.fit(X_train, log_y)\n",
    "gridsearch_lasso_model.best_params_"
   ]
  },
  {
   "cell_type": "code",
   "execution_count": 26,
   "id": "54e0ce26-873e-4970-acb6-101d405ff06c",
   "metadata": {},
   "outputs": [
    {
     "data": {
      "text/plain": [
       "1.0204881139761979"
      ]
     },
     "execution_count": 26,
     "metadata": {},
     "output_type": "execute_result"
    }
   ],
   "source": [
    "y_pred = gridsearch_lasso_model.best_estimator_.predict(X_train)\n",
    "rmsle(log_y, y_pred)"
   ]
  },
  {
   "cell_type": "markdown",
   "id": "165365cf-398f-4a38-b301-9e00426cd077",
   "metadata": {},
   "source": [
    "## 개선3 : RandomForest 모델 "
   ]
  },
  {
   "cell_type": "code",
   "execution_count": 27,
   "id": "4d1ea138-f944-4d74-8fb1-6e73871a5071",
   "metadata": {},
   "outputs": [],
   "source": [
    "from sklearn.ensemble import RandomForestRegressor"
   ]
  },
  {
   "cell_type": "code",
   "execution_count": 28,
   "id": "1af0c92a-dd88-4e68-b1e5-33a4cd5aca2b",
   "metadata": {},
   "outputs": [
    {
     "name": "stdout",
     "output_type": "stream",
     "text": [
      "CPU times: total: 25.2 s\n",
      "Wall time: 43.4 s\n"
     ]
    },
    {
     "data": {
      "text/plain": [
       "{'n_estimators': 140, 'random_state': 42}"
      ]
     },
     "execution_count": 28,
     "metadata": {},
     "output_type": "execute_result"
    }
   ],
   "source": [
    "%%time\n",
    "rf_model = RandomForestRegressor()\n",
    "rf_params = {\n",
    "    \"random_state\" : [42],\n",
    "    \"n_estimators\" : [100, 120, 140]\n",
    "}\n",
    "gridsearch_rf_model = GridSearchCV(estimator=rf_model, param_grid=rf_params, scoring=rmsle_scorer, cv=5)\n",
    "gridsearch_rf_model.fit(X_train, log_y)\n",
    "gridsearch_rf_model.best_params_"
   ]
  },
  {
   "cell_type": "code",
   "execution_count": 29,
   "id": "920e8c92-c760-4ca8-8e97-cfbc63443803",
   "metadata": {},
   "outputs": [
    {
     "data": {
      "text/plain": [
       "0.11265875245404895"
      ]
     },
     "execution_count": 29,
     "metadata": {},
     "output_type": "execute_result"
    }
   ],
   "source": [
    "y_pred = gridsearch_rf_model.best_estimator_.predict(X_train)\n",
    "rmsle(log_y, y_pred)"
   ]
  },
  {
   "cell_type": "code",
   "execution_count": 30,
   "id": "b65ba605-1814-4039-832d-e0bbcb1360c1",
   "metadata": {},
   "outputs": [
    {
     "data": {
      "text/plain": [
       "Text(0.5, 1.0, 'Predicted Test Data Distribution')"
      ]
     },
     "execution_count": 30,
     "metadata": {},
     "output_type": "execute_result"
    },
    {
     "data": {
      "image/png": "[encoded data removed]",
      "text/plain": [
       "<Figure size 1000x400 with 2 Axes>"
      ]
     },
     "metadata": {},
     "output_type": "display_data"
    }
   ],
   "source": [
    "figure, axes = plt.subplots(ncols=2)\n",
    "figure.set_size_inches(10, 4)\n",
    "sns.histplot(y, bins=50, ax=axes[0])\n",
    "axes[0].set_title(\"Train Data Distribution\")\n",
    "sns.histplot(np.exp(y_pred), bins=50, ax=axes[1])\n",
    "axes[1].set_title(\"Predicted Test Data Distribution\")"
   ]
  },
  {
   "cell_type": "code",
   "execution_count": null,
   "id": "c9b5f011-a3a7-4548-8915-8eac94b9cbb8",
   "metadata": {},
   "outputs": [],
   "source": []
  },
  {
   "cell_type": "code",
   "execution_count": null,
   "id": "91b9ae4a-03c1-4fb3-b98f-df7682a9335a",
   "metadata": {},
   "outputs": [],
   "source": []
  },
  {
   "cell_type": "code",
   "execution_count": null,
   "id": "fa060b55-1532-4eeb-84de-0ceeb0a7a59e",
   "metadata": {},
   "outputs": [],
   "source": []
  }
 ],
 "metadata": {
  "kernelspec": {
   "display_name": "Python 3 (ipykernel)",
   "language": "python",
   "name": "python3"
  },
  "language_info": {
   "codemirror_mode": {
    "name": "ipython",
    "version": 3
   },
   "file_extension": ".py",
   "mimetype": "text/x-python",
   "name": "python",
   "nbconvert_exporter": "python",
   "pygments_lexer": "ipython3",
   "version": "3.10.10"
  }
 },
 "nbformat": 4,
 "nbformat_minor": 5
}
